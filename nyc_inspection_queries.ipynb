{
 "cells": [
  {
   "cell_type": "code",
   "execution_count": 3,
   "id": "dc153057-48e9-41b0-bda9-9ca5b2554d96",
   "metadata": {},
   "outputs": [],
   "source": [
    "import sqlite3\n",
    "import pandas as pd\n",
    "import autog_student as ag\n",
    "\n",
    "import json\n",
    "from collections import defaultdict as dd"
   ]
  },
  {
   "cell_type": "code",
   "execution_count": 4,
   "id": "babb7899-86a5-4acc-8cce-86926e90bf5e",
   "metadata": {},
   "outputs": [],
   "source": [
    "conn = sqlite3.connect('../databases/test.db')\n",
    "curs = conn.cursor()"
   ]
  },
  {
   "cell_type": "code",
   "execution_count": 5,
   "id": "20d889a2-ed29-4691-a2af-17de398b9225",
   "metadata": {},
   "outputs": [],
   "source": [
    "nyc = pd.read_csv('nyc_rest_health_inspections.csv')"
   ]
  },
  {
   "cell_type": "code",
   "execution_count": 6,
   "id": "5fad76ad-118c-4fee-a89a-1f7fb6ffefbf",
   "metadata": {},
   "outputs": [
    {
     "name": "stderr",
     "output_type": "stream",
     "text": [
      "/opt/anaconda3/lib/python3.9/site-packages/pandas/core/generic.py:2872: UserWarning: The spaces in these column names will not be changed. In pandas versions < 0.14, spaces were converted to underscores.\n",
      "  sql.to_sql(\n"
     ]
    },
    {
     "ename": "ValueError",
     "evalue": "Table 'test_table' already exists.",
     "output_type": "error",
     "traceback": [
      "\u001b[0;31m---------------------------------------------------------------------------\u001b[0m",
      "\u001b[0;31mValueError\u001b[0m                                Traceback (most recent call last)",
      "\u001b[0;32m/var/folders/70/zp7d574x3sldksz8p5jc7m100000gn/T/ipykernel_11184/1072487760.py\u001b[0m in \u001b[0;36m<module>\u001b[0;34m\u001b[0m\n\u001b[0;32m----> 1\u001b[0;31m nyc.to_sql('test_table', \n\u001b[0m\u001b[1;32m      2\u001b[0m             \u001b[0mconn\u001b[0m\u001b[0;34m,\u001b[0m\u001b[0;34m\u001b[0m\u001b[0;34m\u001b[0m\u001b[0m\n\u001b[1;32m      3\u001b[0m             index=False)\n",
      "\u001b[0;32m/opt/anaconda3/lib/python3.9/site-packages/pandas/core/generic.py\u001b[0m in \u001b[0;36mto_sql\u001b[0;34m(self, name, con, schema, if_exists, index, index_label, chunksize, dtype, method)\u001b[0m\n\u001b[1;32m   2870\u001b[0m         \u001b[0;32mfrom\u001b[0m \u001b[0mpandas\u001b[0m\u001b[0;34m.\u001b[0m\u001b[0mio\u001b[0m \u001b[0;32mimport\u001b[0m \u001b[0msql\u001b[0m\u001b[0;34m\u001b[0m\u001b[0;34m\u001b[0m\u001b[0m\n\u001b[1;32m   2871\u001b[0m \u001b[0;34m\u001b[0m\u001b[0m\n\u001b[0;32m-> 2872\u001b[0;31m         sql.to_sql(\n\u001b[0m\u001b[1;32m   2873\u001b[0m             \u001b[0mself\u001b[0m\u001b[0;34m,\u001b[0m\u001b[0;34m\u001b[0m\u001b[0;34m\u001b[0m\u001b[0m\n\u001b[1;32m   2874\u001b[0m             \u001b[0mname\u001b[0m\u001b[0;34m,\u001b[0m\u001b[0;34m\u001b[0m\u001b[0;34m\u001b[0m\u001b[0m\n",
      "\u001b[0;32m/opt/anaconda3/lib/python3.9/site-packages/pandas/io/sql.py\u001b[0m in \u001b[0;36mto_sql\u001b[0;34m(frame, name, con, schema, if_exists, index, index_label, chunksize, dtype, method, engine, **engine_kwargs)\u001b[0m\n\u001b[1;32m    715\u001b[0m         )\n\u001b[1;32m    716\u001b[0m \u001b[0;34m\u001b[0m\u001b[0m\n\u001b[0;32m--> 717\u001b[0;31m     pandas_sql.to_sql(\n\u001b[0m\u001b[1;32m    718\u001b[0m         \u001b[0mframe\u001b[0m\u001b[0;34m,\u001b[0m\u001b[0;34m\u001b[0m\u001b[0;34m\u001b[0m\u001b[0m\n\u001b[1;32m    719\u001b[0m         \u001b[0mname\u001b[0m\u001b[0;34m,\u001b[0m\u001b[0;34m\u001b[0m\u001b[0;34m\u001b[0m\u001b[0m\n",
      "\u001b[0;32m/opt/anaconda3/lib/python3.9/site-packages/pandas/io/sql.py\u001b[0m in \u001b[0;36mto_sql\u001b[0;34m(self, frame, name, if_exists, index, index_label, schema, chunksize, dtype, method, **kwargs)\u001b[0m\n\u001b[1;32m   2223\u001b[0m             \u001b[0mdtype\u001b[0m\u001b[0;34m=\u001b[0m\u001b[0mdtype\u001b[0m\u001b[0;34m,\u001b[0m\u001b[0;34m\u001b[0m\u001b[0;34m\u001b[0m\u001b[0m\n\u001b[1;32m   2224\u001b[0m         )\n\u001b[0;32m-> 2225\u001b[0;31m         \u001b[0mtable\u001b[0m\u001b[0;34m.\u001b[0m\u001b[0mcreate\u001b[0m\u001b[0;34m(\u001b[0m\u001b[0;34m)\u001b[0m\u001b[0;34m\u001b[0m\u001b[0;34m\u001b[0m\u001b[0m\n\u001b[0m\u001b[1;32m   2226\u001b[0m         \u001b[0mtable\u001b[0m\u001b[0;34m.\u001b[0m\u001b[0minsert\u001b[0m\u001b[0;34m(\u001b[0m\u001b[0mchunksize\u001b[0m\u001b[0;34m,\u001b[0m \u001b[0mmethod\u001b[0m\u001b[0;34m)\u001b[0m\u001b[0;34m\u001b[0m\u001b[0;34m\u001b[0m\u001b[0m\n\u001b[1;32m   2227\u001b[0m \u001b[0;34m\u001b[0m\u001b[0m\n",
      "\u001b[0;32m/opt/anaconda3/lib/python3.9/site-packages/pandas/io/sql.py\u001b[0m in \u001b[0;36mcreate\u001b[0;34m(self)\u001b[0m\n\u001b[1;32m    856\u001b[0m         \u001b[0;32mif\u001b[0m \u001b[0mself\u001b[0m\u001b[0;34m.\u001b[0m\u001b[0mexists\u001b[0m\u001b[0;34m(\u001b[0m\u001b[0;34m)\u001b[0m\u001b[0;34m:\u001b[0m\u001b[0;34m\u001b[0m\u001b[0;34m\u001b[0m\u001b[0m\n\u001b[1;32m    857\u001b[0m             \u001b[0;32mif\u001b[0m \u001b[0mself\u001b[0m\u001b[0;34m.\u001b[0m\u001b[0mif_exists\u001b[0m \u001b[0;34m==\u001b[0m \u001b[0;34m\"fail\"\u001b[0m\u001b[0;34m:\u001b[0m\u001b[0;34m\u001b[0m\u001b[0;34m\u001b[0m\u001b[0m\n\u001b[0;32m--> 858\u001b[0;31m                 \u001b[0;32mraise\u001b[0m \u001b[0mValueError\u001b[0m\u001b[0;34m(\u001b[0m\u001b[0;34mf\"Table '{self.name}' already exists.\"\u001b[0m\u001b[0;34m)\u001b[0m\u001b[0;34m\u001b[0m\u001b[0;34m\u001b[0m\u001b[0m\n\u001b[0m\u001b[1;32m    859\u001b[0m             \u001b[0;32melif\u001b[0m \u001b[0mself\u001b[0m\u001b[0;34m.\u001b[0m\u001b[0mif_exists\u001b[0m \u001b[0;34m==\u001b[0m \u001b[0;34m\"replace\"\u001b[0m\u001b[0;34m:\u001b[0m\u001b[0;34m\u001b[0m\u001b[0;34m\u001b[0m\u001b[0m\n\u001b[1;32m    860\u001b[0m                 \u001b[0mself\u001b[0m\u001b[0;34m.\u001b[0m\u001b[0mpd_sql\u001b[0m\u001b[0;34m.\u001b[0m\u001b[0mdrop_table\u001b[0m\u001b[0;34m(\u001b[0m\u001b[0mself\u001b[0m\u001b[0;34m.\u001b[0m\u001b[0mname\u001b[0m\u001b[0;34m,\u001b[0m \u001b[0mself\u001b[0m\u001b[0;34m.\u001b[0m\u001b[0mschema\u001b[0m\u001b[0;34m)\u001b[0m\u001b[0;34m\u001b[0m\u001b[0;34m\u001b[0m\u001b[0m\n",
      "\u001b[0;31mValueError\u001b[0m: Table 'test_table' already exists."
     ]
    }
   ],
   "source": [
    "nyc.to_sql('test_table', \n",
    "            conn,\n",
    "            index=False)"
   ]
  },
  {
   "cell_type": "code",
   "execution_count": null,
   "id": "d58c94a3-221a-4ea9-9433-5bf92ea94f20",
   "metadata": {},
   "outputs": [],
   "source": [
    "nyc.head(5)"
   ]
  },
  {
   "cell_type": "code",
   "execution_count": null,
   "id": "e3025965-ad10-4bdb-b190-9a40480e905c",
   "metadata": {},
   "outputs": [],
   "source": [
    "# Question 1"
   ]
  },
  {
   "cell_type": "code",
   "execution_count": null,
   "id": "bea82432-2069-4d71-a1a1-ddf61ddd7552",
   "metadata": {},
   "outputs": [],
   "source": [
    "pd.read_sql(\"\"\"\n",
    "SELECT [violation code], [violation description], count([violation code]) as NumViol\n",
    "FROM test_table\n",
    "GROUP BY [violation code]\n",
    "ORDER BY NumViol DESC\n",
    "LIMIT 1\n",
    ";\"\"\", conn)"
   ]
  },
  {
   "cell_type": "code",
   "execution_count": null,
   "id": "b9b37e6b-6767-4391-8fae-752c50b43c1d",
   "metadata": {},
   "outputs": [],
   "source": [
    "# Question 2"
   ]
  },
  {
   "cell_type": "code",
   "execution_count": null,
   "id": "67fff82e-8ca7-4294-8f70-4543577fccfc",
   "metadata": {},
   "outputs": [],
   "source": [
    "pd.read_sql(\"\"\"\n",
    "SELECT [cuisine description], count([violation code]) as NumViol\n",
    "FROM test_table\n",
    "GROUP BY [cuisine description]\n",
    "HAVING NumViol > 10000\n",
    "ORDER BY NumViol DESC\n",
    ";\"\"\", conn)"
   ]
  },
  {
   "cell_type": "code",
   "execution_count": null,
   "id": "47658473-72d6-411f-8ed9-b219d6c329b2",
   "metadata": {},
   "outputs": [],
   "source": [
    "# Question 3"
   ]
  },
  {
   "cell_type": "code",
   "execution_count": null,
   "id": "f63600f2-4c3e-4864-a670-fefe99dbcc9b",
   "metadata": {},
   "outputs": [],
   "source": [
    "sql1 = \"\"\"\n",
    "WITH\n",
    "MaxBoroViolator as \n",
    "(\n",
    "    SELECT boro, max(NumViol)\n",
    "           FROM (\n",
    "               SELECT boro, count([violation code]) as NumViol\n",
    "               FROM test_table\n",
    "               GROUP BY boro\n",
    "               )        \n",
    "),\n",
    "TotalCamis as \n",
    "(\n",
    "    SELECT camis, dba, boro, count([violation code]) as NumViol\n",
    "    FROM test_table\n",
    "    GROUP BY camis\n",
    ")\n",
    "SELECT boro, camis, dba, NumViol\n",
    "FROM TotalCamis\n",
    "WHERE boro = (SELECT boro FROM MaxBoroViolator)\n",
    "ORDER BY NumViol DESC\n",
    "LIMIT 1\n",
    ";\"\"\"\n",
    "\n",
    "pd.read_sql(sql1, conn)"
   ]
  },
  {
   "cell_type": "code",
   "execution_count": null,
   "id": "45ca4fdf-c3ad-4784-90bc-808aeeda2b24",
   "metadata": {},
   "outputs": [],
   "source": [
    "# File name for your submission\n",
    "# Just use the assignment name/number.  Blackboard will add your user name when I download them.\n",
    "# Don't include underscores! It will mess up the pattern Blackboard uses to name files, and I won't know who you are.\n",
    "file_name = 'Checkpoint2.DATA302'\n",
    "#Checkpoint2\n",
    "# Name of the database - must be one directory up in the 'databases' folder\n",
    "db_name = 'test.db'\n",
    "\n",
    "# Do not change these:\n",
    "PATH_SUB = 'submissions/' + file_name\n",
    "PATH_DB  = 'databases/' + db_name\n",
    "\n",
    "# Dictionary to store your submission\n",
    "my_sql = {}\n",
    "\n",
    "conn = sqlite3.connect(PATH_DB)\n",
    "curs = conn.cursor()\n",
    "pd.read_sql(\"SELECT * FROM sqlite_master;\", conn)\n"
   ]
  },
  {
   "cell_type": "code",
   "execution_count": null,
   "id": "127ce722-5611-4d1d-b8b2-c410657becb3",
   "metadata": {},
   "outputs": [],
   "source": [
    "sql = \"\"\"\n",
    "SELECT [violation code], [violation description], count([violation code]) as NumViol\n",
    "FROM test_table\n",
    "GROUP BY [violation code]\n",
    "ORDER BY NumViol DESC\n",
    "LIMIT 1\n",
    ";\"\"\"\n",
    "\n",
    "my_sql['sql1'] = {}\n",
    "my_sql['sql1']['sql'] = sql\n",
    "\n",
    "sql2 = \"\"\"\n",
    "SELECT [cuisine description], count([violation code]) as NumViol\n",
    "FROM test_table\n",
    "GROUP BY [cuisine description]\n",
    "HAVING NumViol > 10000\n",
    "ORDER BY NumViol DESC\n",
    ";\"\"\"\n",
    "\n",
    "my_sql['sql2'] = {}\n",
    "my_sql['sql2'][\"sql\"] = sql2\n",
    "\n",
    "sql3 = \"\"\"\n",
    "WITH\n",
    "MaxBoroViolator as \n",
    "(\n",
    "    SELECT boro, max(NumViol)\n",
    "           FROM (\n",
    "               SELECT boro, count([violation code]) as NumViol\n",
    "               FROM test_table\n",
    "               GROUP BY boro\n",
    "               )        \n",
    "),\n",
    "TotalCamis as \n",
    "(\n",
    "    SELECT camis, dba, boro, count([violation code]) as NumViol\n",
    "    FROM test_table\n",
    "    GROUP BY camis\n",
    ")\n",
    "SELECT boro, camis, dba, NumViol\n",
    "FROM TotalCamis\n",
    "WHERE boro = (SELECT boro FROM MaxBoroViolator)\n",
    "ORDER BY NumViol DESC\n",
    "LIMIT 1\n",
    ";\"\"\"\n",
    "\n",
    "my_sql['sql3'] = {}\n",
    "my_sql['sql3'][\"sql\"] = sql3\n",
    "\n",
    "my_sql"
   ]
  },
  {
   "cell_type": "code",
   "execution_count": null,
   "id": "6fbe6186-12aa-4b77-b742-f5f97f5ad2be",
   "metadata": {},
   "outputs": [],
   "source": [
    "with open('Checkpoint2.DATA302', 'w') as f:\n",
    "    json.dump(my_sql, f)"
   ]
  },
  {
   "cell_type": "code",
   "execution_count": null,
   "id": "0245462f-1e80-4b63-bcab-ddfacfc40c9e",
   "metadata": {},
   "outputs": [],
   "source": [
    "with open(PATH_SUB, 'w') as f:\n",
    "    json.dump(my_sql, f)"
   ]
  },
  {
   "cell_type": "code",
   "execution_count": null,
   "id": "bc43283c-b7fa-4324-a54e-6dd5d8d6325d",
   "metadata": {},
   "outputs": [],
   "source": [
    "s = ag.Student('Checkpoint2.DATA302', db_name)"
   ]
  },
  {
   "cell_type": "code",
   "execution_count": null,
   "id": "52ce4b0a-e25d-49c9-bbf9-cba92fd95bee",
   "metadata": {},
   "outputs": [],
   "source": [
    "s.CheckMySubmission()"
   ]
  },
  {
   "cell_type": "code",
   "execution_count": 7,
   "id": "3d0ae641-b7a6-4fe2-bc34-97f1146fd9d3",
   "metadata": {},
   "outputs": [
    {
     "ename": "NameError",
     "evalue": "name 's' is not defined",
     "output_type": "error",
     "traceback": [
      "\u001b[0;31m---------------------------------------------------------------------------\u001b[0m",
      "\u001b[0;31mNameError\u001b[0m                                 Traceback (most recent call last)",
      "\u001b[0;32m/var/folders/70/zp7d574x3sldksz8p5jc7m100000gn/T/ipykernel_11184/555664742.py\u001b[0m in \u001b[0;36m<module>\u001b[0;34m\u001b[0m\n\u001b[0;32m----> 1\u001b[0;31m \u001b[0;32mdel\u001b[0m \u001b[0ms\u001b[0m\u001b[0;34m\u001b[0m\u001b[0;34m\u001b[0m\u001b[0m\n\u001b[0m",
      "\u001b[0;31mNameError\u001b[0m: name 's' is not defined"
     ]
    }
   ],
   "source": [
    "del s"
   ]
  },
  {
   "cell_type": "code",
   "execution_count": 8,
   "id": "5cc48539-e575-473e-922d-d6c949b95a80",
   "metadata": {},
   "outputs": [],
   "source": [
    "conn.close()\n"
   ]
  },
  {
   "cell_type": "code",
   "execution_count": null,
   "id": "d85dd1cc-8ce6-4912-804d-2d25a334729a",
   "metadata": {},
   "outputs": [],
   "source": []
  },
  {
   "cell_type": "code",
   "execution_count": null,
   "id": "ebe03f37-8113-4b60-b674-799ad264b4b7",
   "metadata": {},
   "outputs": [],
   "source": []
  }
 ],
 "metadata": {
  "kernelspec": {
   "display_name": "Python 3 (ipykernel)",
   "language": "python",
   "name": "python3"
  },
  "language_info": {
   "codemirror_mode": {
    "name": "ipython",
    "version": 3
   },
   "file_extension": ".py",
   "mimetype": "text/x-python",
   "name": "python",
   "nbconvert_exporter": "python",
   "pygments_lexer": "ipython3",
   "version": "3.9.7"
  }
 },
 "nbformat": 4,
 "nbformat_minor": 5
}
